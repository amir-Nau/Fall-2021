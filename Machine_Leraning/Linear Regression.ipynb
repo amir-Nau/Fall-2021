{
 "cells": [
  {
   "cell_type": "code",
   "execution_count": 1,
   "metadata": {},
   "outputs": [],
   "source": [
    "import numpy as np\n",
    "import matplotlib.pyplot as plt"
   ]
  },
  {
   "cell_type": "code",
   "execution_count": 81,
   "metadata": {},
   "outputs": [
    {
     "data": {
      "text/plain": [
       "True"
      ]
     },
     "execution_count": 81,
     "metadata": {},
     "output_type": "execute_result"
    }
   ],
   "source": [
    "#We are having a exp/yr and salary for a SC developer\n",
    "#X will be the years of experience \n",
    "#Y will be salary assosiated with experience\n",
    "# Dataset was taken from Kaggle (https://www.kaggle.com/rohankayan/years-of-experience-and-salary-dataset)\n",
    "\n",
    "x = [1.1,\n",
    "1.3,\n",
    "1.5,\n",
    "2,\n",
    "2.2,\n",
    "2.9,\n",
    "3,\n",
    "3.2,\n",
    "3.2,\n",
    "3.7,\n",
    "3.9,\n",
    "4,\n",
    "4,\n",
    "4.1,\n",
    "4.5,\n",
    "4.9,\n",
    "5.1,\n",
    "5.3,\n",
    "5.9,\n",
    "6,\n",
    "6.8,\n",
    "7.1,\n",
    "7.9,\n",
    "8.2,\n",
    "8.7,\n",
    "9,\n",
    "9.5,\n",
    "9.6,\n",
    "10.3,\n",
    "10.5]\n",
    "\n",
    "y = [39343,\n",
    "46205,\n",
    "37731,\n",
    "43525,\n",
    "39891,\n",
    "56642,\n",
    "60150,\n",
    "54445,\n",
    "64445,\n",
    "57189,\n",
    "63218,\n",
    "55794,\n",
    "56957,\n",
    "57081,\n",
    "61111,\n",
    "67938,\n",
    "66029,\n",
    "83088,\n",
    "81363,\n",
    "93940,\n",
    "91738,\n",
    "98273,\n",
    "101302,\n",
    "113812,\n",
    "109431,\n",
    "105582,\n",
    "116969,\n",
    "112635,\n",
    "122391,\n",
    "121872]\n",
    "\n",
    "len(y) == len(x)"
   ]
  },
  {
   "cell_type": "code",
   "execution_count": 82,
   "metadata": {},
   "outputs": [],
   "source": [
    "x = np.array(x)\n",
    "y = np.array(y)"
   ]
  },
  {
   "cell_type": "code",
   "execution_count": 83,
   "metadata": {},
   "outputs": [
    {
     "data": {
      "text/plain": [
       "(30,)"
      ]
     },
     "execution_count": 83,
     "metadata": {},
     "output_type": "execute_result"
    }
   ],
   "source": [
    "x.shape"
   ]
  },
  {
   "cell_type": "code",
   "execution_count": null,
   "metadata": {},
   "outputs": [],
   "source": []
  },
  {
   "cell_type": "code",
   "execution_count": 85,
   "metadata": {},
   "outputs": [
    {
     "data": {
      "image/png": "[encoded data removed]",
      "text/plain": [
       "<Figure size 432x288 with 1 Axes>"
      ]
     },
     "metadata": {
      "needs_background": "light"
     },
     "output_type": "display_data"
    }
   ],
   "source": [
    "plt.scatter(x,y)\n",
    "plt.xlabel(\"Years of Experience\")\n",
    "plt.ylabel(\"Salary Assoiciated with Experience\")\n",
    "plt.grid()\n"
   ]
  },
  {
   "cell_type": "code",
   "execution_count": 86,
   "metadata": {},
   "outputs": [
    {
     "data": {
      "text/plain": [
       "9449.962321455077"
      ]
     },
     "execution_count": 86,
     "metadata": {},
     "output_type": "execute_result"
    }
   ],
   "source": [
    "#Now Let's calculate the slope of the function.\n",
    "#As mentioned on the House Price Prediction we will use the exact same formula for our model.\n",
    "z=[]\n",
    "for i in y:\n",
    "    z.append((i-(sum(y)/len(y))))\n",
    "w=[]\n",
    "for i in x:\n",
    "    w.append((i-(sum(x)/len(x))))\n",
    "slope = (sum(np.array(z)*np.array(w)))/ (sum(np.array(w)**2))\n",
    "slope"
   ]
  },
  {
   "cell_type": "code",
   "execution_count": 87,
   "metadata": {},
   "outputs": [
    {
     "data": {
      "text/plain": [
       "25792.20019866869"
      ]
     },
     "execution_count": 87,
     "metadata": {},
     "output_type": "execute_result"
    }
   ],
   "source": [
    "#It's time to calculate intercept\n",
    "intercept=y.mean()-(slope*(x.mean()))\n",
    "\n",
    "\n",
    "intercept\n"
   ]
  },
  {
   "cell_type": "code",
   "execution_count": 88,
   "metadata": {},
   "outputs": [],
   "source": [
    "y_pred=intercept+(slope*x)"
   ]
  },
  {
   "cell_type": "code",
   "execution_count": 89,
   "metadata": {},
   "outputs": [
    {
     "data": {
      "text/plain": [
       "array([ 36187.15875227,  38077.15121656,  39967.14368085,  44692.12484158,\n",
       "        46582.11730587,  53197.09093089,  54142.08716303,  56032.07962732,\n",
       "        56032.07962732,  60757.06078805,  62647.05325234,  63592.04948449,\n",
       "        63592.04948449,  64537.04571663,  68317.03064522,  72097.0155738 ,\n",
       "        73987.00803809,  75877.00050238,  81546.97789525,  82491.9741274 ,\n",
       "        90051.94398456,  92886.932681  , 100446.90253816, 103281.8912346 ,\n",
       "       108006.87239533, 110841.86109176, 115566.84225249, 116511.83848464,\n",
       "       123126.81210966, 125016.80457395])"
      ]
     },
     "execution_count": 89,
     "metadata": {},
     "output_type": "execute_result"
    }
   ],
   "source": [
    "y_pred"
   ]
  },
  {
   "cell_type": "code",
   "execution_count": 90,
   "metadata": {},
   "outputs": [
    {
     "data": {
      "image/png": "[encoded data removed]",
      "text/plain": [
       "<Figure size 576x432 with 1 Axes>"
      ]
     },
     "metadata": {
      "needs_background": "light"
     },
     "output_type": "display_data"
    }
   ],
   "source": [
    "#Now we will Plot our Simple Linear Regression\n",
    "plt.figure(figsize=(8,6))\n",
    "plt.scatter(x, y, color='red')\n",
    "plt.plot(x, y_pred, color='blue', linewidth=1)\n",
    "plt.grid()"
   ]
  },
  {
   "cell_type": "code",
   "execution_count": 91,
   "metadata": {},
   "outputs": [
    {
     "name": "stdout",
     "output_type": "stream",
     "text": [
      "Approximate salary for the new year experience: 129741.78573467454 U.S dollars\n"
     ]
    }
   ],
   "source": [
    "# Predicting New Salary \n",
    "x_new  = 11\n",
    "y_pred=intercept+slope*x_new\n",
    "print('Approximate salary for the new year experience:',y_pred,'U.S dollars')"
   ]
  },
  {
   "cell_type": "code",
   "execution_count": 101,
   "metadata": {},
   "outputs": [],
   "source": [
    "# Calculating Means Squared Error\n",
    "from sklearn.metrics import r2_score\n"
   ]
  },
  {
   "cell_type": "code",
   "execution_count": 102,
   "metadata": {},
   "outputs": [],
   "source": [
    "y_pred=intercept+(slope*x)"
   ]
  },
  {
   "cell_type": "code",
   "execution_count": 103,
   "metadata": {},
   "outputs": [
    {
     "data": {
      "text/plain": [
       "array([ 36187.15875227,  38077.15121656,  39967.14368085,  44692.12484158,\n",
       "        46582.11730587,  53197.09093089,  54142.08716303,  56032.07962732,\n",
       "        56032.07962732,  60757.06078805,  62647.05325234,  63592.04948449,\n",
       "        63592.04948449,  64537.04571663,  68317.03064522,  72097.0155738 ,\n",
       "        73987.00803809,  75877.00050238,  81546.97789525,  82491.9741274 ,\n",
       "        90051.94398456,  92886.932681  , 100446.90253816, 103281.8912346 ,\n",
       "       108006.87239533, 110841.86109176, 115566.84225249, 116511.83848464,\n",
       "       123126.81210966, 125016.80457395])"
      ]
     },
     "execution_count": 103,
     "metadata": {},
     "output_type": "execute_result"
    }
   ],
   "source": [
    "y_pred\n"
   ]
  },
  {
   "cell_type": "code",
   "execution_count": 104,
   "metadata": {},
   "outputs": [
    {
     "data": {
      "text/plain": [
       "0.9569566641435086"
      ]
     },
     "execution_count": 104,
     "metadata": {},
     "output_type": "execute_result"
    }
   ],
   "source": [
    "r2_score(y,y_pred)"
   ]
  },
  {
   "cell_type": "code",
   "execution_count": 105,
   "metadata": {},
   "outputs": [],
   "source": [
    "#Our model does not bad. It has the accuracy of 96%\n"
   ]
  },
  {
   "cell_type": "code",
   "execution_count": null,
   "metadata": {},
   "outputs": [],
   "source": []
  },
  {
   "cell_type": "code",
   "execution_count": null,
   "metadata": {},
   "outputs": [],
   "source": []
  }
 ],
 "metadata": {
  "kernelspec": {
   "display_name": "Python 3",
   "language": "python",
   "name": "python3"
  },
  "language_info": {
   "codemirror_mode": {
    "name": "ipython",
    "version": 3
   },
   "file_extension": ".py",
   "mimetype": "text/x-python",
   "name": "python",
   "nbconvert_exporter": "python",
   "pygments_lexer": "ipython3",
   "version": "3.7.7"
  }
 },
 "nbformat": 4,
 "nbformat_minor": 4
}
